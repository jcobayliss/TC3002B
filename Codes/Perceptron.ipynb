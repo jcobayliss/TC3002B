{
  "nbformat": 4,
  "nbformat_minor": 0,
  "metadata": {
    "colab": {
      "provenance": []
    },
    "kernelspec": {
      "name": "python3",
      "display_name": "Python 3"
    },
    "language_info": {
      "name": "python"
    }
  },
  "cells": [
    {
      "cell_type": "code",
      "source": [
        "import numpy as np\n",
        "import random"
      ],
      "metadata": {
        "id": "ASMfdeeUkcR2"
      },
      "execution_count": null,
      "outputs": []
    },
    {
      "cell_type": "code",
      "execution_count": null,
      "metadata": {
        "id": "nQCAG1EWivhx"
      },
      "outputs": [],
      "source": [
        "# Definimos la función de activación hard limit\n",
        "def hardlim(n):\n",
        "  if n >= 0:\n",
        "    return 1\n",
        "  return 0"
      ]
    },
    {
      "cell_type": "code",
      "source": [
        "# Definimos la función para predecir mediante un perceptrón\n",
        "def perceptron_predict(p, W, b):\n",
        "  n = np.matmul(W, p) + b\n",
        "  a = hardlim(n)\n",
        "  return a"
      ],
      "metadata": {
        "id": "fF9Xuxf1zb0g"
      },
      "execution_count": null,
      "outputs": []
    },
    {
      "cell_type": "code",
      "source": [
        "W = [1.5, 0.5]\n",
        "b = -2\n",
        "p = np.transpose([1, 1])\n",
        "print(perceptron_predict(p, W, b))"
      ],
      "metadata": {
        "colab": {
          "base_uri": "https://localhost:8080/"
        },
        "id": "FqUwbT8aSzzb",
        "outputId": "d269bbc7-e4d9-4cab-9fb6-0e19c4de5e17"
      },
      "execution_count": null,
      "outputs": [
        {
          "output_type": "stream",
          "name": "stdout",
          "text": [
            "1\n"
          ]
        }
      ]
    },
    {
      "cell_type": "code",
      "source": [
        "# Definimos la función para entrenar un perceptrón\n",
        "def perceptron_train(P, T, W, b, maxEpochs):\n",
        "  for i in range(maxEpochs):  \n",
        "    error = False\n",
        "    for j in range(len(P)):\n",
        "      # Realizamos la predicción con la configuración actual de la red y el vector de entrada en turno\n",
        "      a = perceptron_predict(np.transpose(P[j]), W, b)\n",
        "      # Calculamos el error considerando la salida esperada para el vector de entrada en turno\n",
        "      e = T[j] - a\n",
        "      # Actualizamos los pesos y el sesgo\n",
        "      W = W + e * P[j]\n",
        "      b = b + e\n",
        "      # Revisamos el error en la época\n",
        "      if e != 0:\n",
        "        error = True\n",
        "    # Si no existe error en la época, podemos terminar el entrenamiento\n",
        "    if not error:\n",
        "      break\n",
        "  return [W, b]"
      ],
      "metadata": {
        "id": "p-FU09U4jaVH"
      },
      "execution_count": null,
      "outputs": []
    },
    {
      "cell_type": "code",
      "source": [
        "# Entrenamos el perceptrón como una compuerta lógica AND\n",
        "P = np.array([[0, 0], [0, 1], [1, 0], [1, 1]])\n",
        "T = [0, 0, 0, 1]\n",
        "#W = [1.5, 1.5]\n",
        "#b = 1\n",
        "W = np.random.random(2)\n",
        "b = random.random()\n",
        "[W, b] = perceptron_train(P, T, W, b, 10)\n",
        "print(\"W =\", W)\n",
        "print(\"b =\", b)\n",
        "\n",
        "# Probamos los valores obtenidos para W y b\n",
        "success = 0\n",
        "for i in range(len(P)):\n",
        "  a = perceptron_predict(np.transpose(P[i]), W, b)\n",
        "  if (T[i] - a) == 0:\n",
        "    success = success + 1\n",
        "print(\"Accuracy =\", success / len(P))"
      ],
      "metadata": {
        "colab": {
          "base_uri": "https://localhost:8080/"
        },
        "id": "tyMXkl78jESp",
        "outputId": "9d8cf0de-e30c-4ec2-fbf6-4faaf842ad58"
      },
      "execution_count": null,
      "outputs": [
        {
          "output_type": "stream",
          "name": "stdout",
          "text": [
            "W = [2.05004017 0.4014992 ]\n",
            "b = -2.390061298520859\n",
            "Accuracy = 1.0\n"
          ]
        }
      ]
    },
    {
      "cell_type": "code",
      "source": [
        "# Entrenamos el perceptrón como una compuerta lógica XOR\n",
        "P = np.array([[0, 0], [0, 1], [1, 0], [1, 1]])\n",
        "T = [0, 1, 1, 0]\n",
        "W = [1.5, 1.5]\n",
        "b = 1\n",
        "#W = np.random.random(2)\n",
        "#b = random.random()\n",
        "[W, b] = perceptron_train(P, T, W, b, 100)\n",
        "print(\"W =\", W)\n",
        "print(\"b =\", b)\n",
        "\n",
        "# Probamos los valores obtenidos para W y b\n",
        "success = 0\n",
        "for i in range(len(P)):\n",
        "  a = perceptron_predict(np.transpose(P[i]), W, b)\n",
        "  if (T[i] - a) == 0:\n",
        "    success = success + 1\n",
        "print(\"Accuracy =\", success / len(P))"
      ],
      "metadata": {
        "colab": {
          "base_uri": "https://localhost:8080/"
        },
        "id": "D5ljvIa_yuMJ",
        "outputId": "55c437dc-c656-4a62-c40b-2d2411b42593"
      },
      "execution_count": null,
      "outputs": [
        {
          "output_type": "stream",
          "name": "stdout",
          "text": [
            "W = [-0.5  0.5]\n",
            "b = 0\n",
            "Accuracy = 0.25\n"
          ]
        }
      ]
    }
  ]
}