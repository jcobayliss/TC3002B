{
  "nbformat": 4,
  "nbformat_minor": 0,
  "metadata": {
    "colab": {
      "provenance": []
    },
    "kernelspec": {
      "name": "python3",
      "display_name": "Python 3"
    },
    "language_info": {
      "name": "python"
    }
  },
  "cells": [
    {
      "cell_type": "code",
      "execution_count": 34,
      "metadata": {
        "id": "UIGKGdtAaBB6"
      },
      "outputs": [],
      "source": [
        "# Importamos las librerías que usaremos a lo largo de esta presentación\n",
        "import pandas as pd\n",
        "import numpy as np\n",
        "import statsmodels.api as sm\n",
        "from sklearn.model_selection import train_test_split\n",
        "from sklearn.linear_model import LinearRegression\n",
        "from sklearn.metrics import mean_squared_error\n",
        "from matplotlib import pyplot as plt\n",
        "\n",
        "# Leemos los datos que usaremos a lo largo de esta presentación\n",
        "temperature =  pd.read_csv(\"temperature.csv\")\n",
        "taxi =  pd.read_csv(\"taxi.csv\")"
      ]
    },
    {
      "cell_type": "markdown",
      "source": [
        "# Conversión de grados Celsius a Fahrenheit"
      ],
      "metadata": {
        "id": "uWhZTJy_jPfA"
      }
    },
    {
      "cell_type": "code",
      "source": [
        "# Separamos las características de la variable objetivo\n",
        "X = temperature.drop(\"Fahrenheit\", axis = 1).values\n",
        "y = temperature[\"Fahrenheit\"].values\n",
        "\n",
        "# Dividimos los datos en entrenamiento y prueba\n",
        "X_train, X_test, y_train, y_test = train_test_split(X, y, train_size = 0.60, random_state = 12345)\n",
        "\n",
        "# Creamos un modelo donde Fahrenheit es la variable dependiente y Celsius, la independiente​\n",
        "model = LinearRegression().fit(X_train, y_train)\n",
        "\n",
        "# Visualizamos el modelo\n",
        "print(model.intercept_, model.coef_)"
      ],
      "metadata": {
        "colab": {
          "base_uri": "https://localhost:8080/"
        },
        "id": "vdmT-0WUaJqI",
        "outputId": "a86eb551-2b09-4513-9681-b26f4321332b"
      },
      "execution_count": 6,
      "outputs": [
        {
          "output_type": "stream",
          "name": "stdout",
          "text": [
            "32.0 [1.8]\n"
          ]
        }
      ]
    },
    {
      "cell_type": "code",
      "source": [
        "# Realizamos la predicción de la variable objetivo usando los mismos datos con los que se entrenó el modelo\n",
        "prediction = model.predict(X_test)\n",
        "\n",
        "# Graficamos los valores reales contra la predicción\n",
        "plt.scatter(X_test, y_test, color = \"b\") \n",
        "plt.plot(X_test, prediction, color = \"r\")\n",
        "plt.xlabel(\"Celsius\")\n",
        "plt.ylabel(\"Fahrenheit\")"
      ],
      "metadata": {
        "colab": {
          "base_uri": "https://localhost:8080/",
          "height": 296
        },
        "id": "-dIl4S5maScF",
        "outputId": "b09836b4-ee15-49f9-bbf0-6f934ffac487"
      },
      "execution_count": 7,
      "outputs": [
        {
          "output_type": "execute_result",
          "data": {
            "text/plain": [
              "Text(0, 0.5, 'Fahrenheit')"
            ]
          },
          "metadata": {},
          "execution_count": 7
        },
        {
          "output_type": "display_data",
          "data": {
            "text/plain": [
              "<Figure size 432x288 with 1 Axes>"
            ],
            "image/png": "[encoded data removed]"
          },
          "metadata": {
            "needs_background": "light"
          }
        }
      ]
    },
    {
      "cell_type": "markdown",
      "source": [
        "# Cálculo del costo del viaje en taxi"
      ],
      "metadata": {
        "id": "u4jnBMR1jR4x"
      }
    },
    {
      "cell_type": "code",
      "source": [
        "taxi.head()"
      ],
      "metadata": {
        "colab": {
          "base_uri": "https://localhost:8080/",
          "height": 206
        },
        "id": "e91PKPUkjjUl",
        "outputId": "a9672e62-e0ff-495c-cc0b-2d75a4fcc3b5"
      },
      "execution_count": 8,
      "outputs": [
        {
          "output_type": "execute_result",
          "data": {
            "text/plain": [
              "   Distance  Time        Cost\n",
              "0     31018  5393  270.163666\n",
              "1     35018  3648  245.729088\n",
              "2     25344  3385  198.586056\n",
              "3     27826  4412  233.611110\n",
              "4      9463   538   62.933615"
            ],
            "text/html": [
              "\n",
              "  <div id=\"df-2563a9fc-a23f-43d4-a932-c4d1c0ee81dc\">\n",
              "    <div class=\"colab-df-container\">\n",
              "      <div>\n",
              "<style scoped>\n",
              "    .dataframe tbody tr th:only-of-type {\n",
              "        vertical-align: middle;\n",
              "    }\n",
              "\n",
              "    .dataframe tbody tr th {\n",
              "        vertical-align: top;\n",
              "    }\n",
              "\n",
              "    .dataframe thead th {\n",
              "        text-align: right;\n",
              "    }\n",
              "</style>\n",
              "<table border=\"1\" class=\"dataframe\">\n",
              "  <thead>\n",
              "    <tr style=\"text-align: right;\">\n",
              "      <th></th>\n",
              "      <th>Distance</th>\n",
              "      <th>Time</th>\n",
              "      <th>Cost</th>\n",
              "    </tr>\n",
              "  </thead>\n",
              "  <tbody>\n",
              "    <tr>\n",
              "      <th>0</th>\n",
              "      <td>31018</td>\n",
              "      <td>5393</td>\n",
              "      <td>270.163666</td>\n",
              "    </tr>\n",
              "    <tr>\n",
              "      <th>1</th>\n",
              "      <td>35018</td>\n",
              "      <td>3648</td>\n",
              "      <td>245.729088</td>\n",
              "    </tr>\n",
              "    <tr>\n",
              "      <th>2</th>\n",
              "      <td>25344</td>\n",
              "      <td>3385</td>\n",
              "      <td>198.586056</td>\n",
              "    </tr>\n",
              "    <tr>\n",
              "      <th>3</th>\n",
              "      <td>27826</td>\n",
              "      <td>4412</td>\n",
              "      <td>233.611110</td>\n",
              "    </tr>\n",
              "    <tr>\n",
              "      <th>4</th>\n",
              "      <td>9463</td>\n",
              "      <td>538</td>\n",
              "      <td>62.933615</td>\n",
              "    </tr>\n",
              "  </tbody>\n",
              "</table>\n",
              "</div>\n",
              "      <button class=\"colab-df-convert\" onclick=\"convertToInteractive('df-2563a9fc-a23f-43d4-a932-c4d1c0ee81dc')\"\n",
              "              title=\"Convert this dataframe to an interactive table.\"\n",
              "              style=\"display:none;\">\n",
              "        \n",
              "  <svg xmlns=\"http://www.w3.org/2000/svg\" height=\"24px\"viewBox=\"0 0 24 24\"\n",
              "       width=\"24px\">\n",
              "    <path d=\"M0 0h24v24H0V0z\" fill=\"none\"/>\n",
              "    <path d=\"M18.56 5.44l.94 2.06.94-2.06 2.06-.94-2.06-.94-.94-2.06-.94 2.06-2.06.94zm-11 1L8.5 8.5l.94-2.06 2.06-.94-2.06-.94L8.5 2.5l-.94 2.06-2.06.94zm10 10l.94 2.06.94-2.06 2.06-.94-2.06-.94-.94-2.06-.94 2.06-2.06.94z\"/><path d=\"M17.41 7.96l-1.37-1.37c-.4-.4-.92-.59-1.43-.59-.52 0-1.04.2-1.43.59L10.3 9.45l-7.72 7.72c-.78.78-.78 2.05 0 2.83L4 21.41c.39.39.9.59 1.41.59.51 0 1.02-.2 1.41-.59l7.78-7.78 2.81-2.81c.8-.78.8-2.07 0-2.86zM5.41 20L4 18.59l7.72-7.72 1.47 1.35L5.41 20z\"/>\n",
              "  </svg>\n",
              "      </button>\n",
              "      \n",
              "  <style>\n",
              "    .colab-df-container {\n",
              "      display:flex;\n",
              "      flex-wrap:wrap;\n",
              "      gap: 12px;\n",
              "    }\n",
              "\n",
              "    .colab-df-convert {\n",
              "      background-color: #E8F0FE;\n",
              "      border: none;\n",
              "      border-radius: 50%;\n",
              "      cursor: pointer;\n",
              "      display: none;\n",
              "      fill: #1967D2;\n",
              "      height: 32px;\n",
              "      padding: 0 0 0 0;\n",
              "      width: 32px;\n",
              "    }\n",
              "\n",
              "    .colab-df-convert:hover {\n",
              "      background-color: #E2EBFA;\n",
              "      box-shadow: 0px 1px 2px rgba(60, 64, 67, 0.3), 0px 1px 3px 1px rgba(60, 64, 67, 0.15);\n",
              "      fill: #174EA6;\n",
              "    }\n",
              "\n",
              "    [theme=dark] .colab-df-convert {\n",
              "      background-color: #3B4455;\n",
              "      fill: #D2E3FC;\n",
              "    }\n",
              "\n",
              "    [theme=dark] .colab-df-convert:hover {\n",
              "      background-color: #434B5C;\n",
              "      box-shadow: 0px 1px 3px 1px rgba(0, 0, 0, 0.15);\n",
              "      filter: drop-shadow(0px 1px 2px rgba(0, 0, 0, 0.3));\n",
              "      fill: #FFFFFF;\n",
              "    }\n",
              "  </style>\n",
              "\n",
              "      <script>\n",
              "        const buttonEl =\n",
              "          document.querySelector('#df-2563a9fc-a23f-43d4-a932-c4d1c0ee81dc button.colab-df-convert');\n",
              "        buttonEl.style.display =\n",
              "          google.colab.kernel.accessAllowed ? 'block' : 'none';\n",
              "\n",
              "        async function convertToInteractive(key) {\n",
              "          const element = document.querySelector('#df-2563a9fc-a23f-43d4-a932-c4d1c0ee81dc');\n",
              "          const dataTable =\n",
              "            await google.colab.kernel.invokeFunction('convertToInteractive',\n",
              "                                                     [key], {});\n",
              "          if (!dataTable) return;\n",
              "\n",
              "          const docLinkHtml = 'Like what you see? Visit the ' +\n",
              "            '<a target=\"_blank\" href=https://colab.research.google.com/notebooks/data_table.ipynb>data table notebook</a>'\n",
              "            + ' to learn more about interactive tables.';\n",
              "          element.innerHTML = '';\n",
              "          dataTable['output_type'] = 'display_data';\n",
              "          await google.colab.output.renderOutput(dataTable, element);\n",
              "          const docLink = document.createElement('div');\n",
              "          docLink.innerHTML = docLinkHtml;\n",
              "          element.appendChild(docLink);\n",
              "        }\n",
              "      </script>\n",
              "    </div>\n",
              "  </div>\n",
              "  "
            ]
          },
          "metadata": {},
          "execution_count": 8
        }
      ]
    },
    {
      "cell_type": "code",
      "source": [
        "# Separamos las características de la variable objetivo\n",
        "X = taxi.drop([\"Time\", \"Cost\"], axis = 1).values\n",
        "y = taxi[\"Cost\"].values\n",
        "\n",
        "# Dividimos los datos en entrenamiento y prueba\n",
        "X_train, X_test, y_train, y_test = train_test_split(X, y, train_size = 0.60, random_state = 54321)\n",
        "\n",
        "# Creamos un modelo donde Cost es la variable dependiente y Distance, la independiente\n",
        "model = LinearRegression().fit(X_train, y_train)\n",
        "\n",
        "# Visualizamos el modelo\n",
        "print(model.intercept_, model.coef_)"
      ],
      "metadata": {
        "colab": {
          "base_uri": "https://localhost:8080/"
        },
        "id": "kHk6TF2PjIUq",
        "outputId": "1bf7cd47-f88a-48bd-fc2a-94fdc25896e0"
      },
      "execution_count": 14,
      "outputs": [
        {
          "output_type": "stream",
          "name": "stdout",
          "text": [
            "86.59879123867697 [0.00381115]\n"
          ]
        }
      ]
    },
    {
      "cell_type": "code",
      "source": [
        "# Separamos las características de la variable objetivo\n",
        "X = taxi.drop([\"Distance\", \"Cost\"], axis = 1).values\n",
        "y = taxi[\"Cost\"].values\n",
        "\n",
        "# Dividimos los datos en entrenamiento y prueba\n",
        "X_train, X_test, y_train, y_test = train_test_split(X, y, train_size = 0.60, random_state = 54321)\n",
        "\n",
        "# Creamos un modelo donde Cost es la variable dependiente y Time, la independiente\n",
        "model = LinearRegression().fit(X_train, y_train)\n",
        "\n",
        "# Visualizamos el modelo\n",
        "print(model.intercept_, model.coef_)"
      ],
      "metadata": {
        "colab": {
          "base_uri": "https://localhost:8080/"
        },
        "id": "z29sPY5inAlP",
        "outputId": "dafaf934-83a1-4450-822b-e3c3da633b11"
      },
      "execution_count": 15,
      "outputs": [
        {
          "output_type": "stream",
          "name": "stdout",
          "text": [
            "138.09899740174754 [0.0148634]\n"
          ]
        }
      ]
    },
    {
      "cell_type": "code",
      "source": [
        "# Separamos las características de la variable objetivo\n",
        "X = taxi.drop(\"Cost\", axis = 1).values\n",
        "y = taxi[\"Cost\"].values\n",
        "\n",
        "# Dividimos los datos en entrenamiento y prueba\n",
        "X_train, X_test, y_train, y_test = train_test_split(X, y, train_size = 0.60, random_state = 54321)\n",
        "\n",
        "# Creamos un modelo donde Cost es la variable dependiente y Distance y Time, las independiente​s\n",
        "model = LinearRegression().fit(X_train, y_train)\n",
        "\n",
        "# Visualizamos el modelo\n",
        "print(model.intercept_, model.coef_)"
      ],
      "metadata": {
        "colab": {
          "base_uri": "https://localhost:8080/"
        },
        "id": "hts0poAskYos",
        "outputId": "dec2aaf2-32a4-4201-c412-a1f436a9200a"
      },
      "execution_count": 35,
      "outputs": [
        {
          "output_type": "stream",
          "name": "stdout",
          "text": [
            "9.572406351450354 [0.00427423 0.02372308]\n"
          ]
        }
      ]
    },
    {
      "cell_type": "markdown",
      "source": [
        "# Evaluación del desempeño"
      ],
      "metadata": {
        "id": "XAH7Q_ZtBEBq"
      }
    },
    {
      "cell_type": "code",
      "source": [
        "# Realizamos la predicción del costo usando los datos del conjunto de prueba\n",
        "prediction = model.predict(X_test)\n",
        "\n",
        "# Calculamos el error medio cuadrado\n",
        "mean_squared_error(y_test, prediction)"
      ],
      "metadata": {
        "colab": {
          "base_uri": "https://localhost:8080/"
        },
        "id": "7ICzTRycBHRo",
        "outputId": "6351d9ed-3e67-4314-afb8-c3f05841bce8"
      },
      "execution_count": 39,
      "outputs": [
        {
          "output_type": "execute_result",
          "data": {
            "text/plain": [
              "0.067793942001573"
            ]
          },
          "metadata": {},
          "execution_count": 39
        }
      ]
    },
    {
      "cell_type": "markdown",
      "source": [
        "# Selección de características"
      ],
      "metadata": {
        "id": "1FvbH8GnA_w3"
      }
    },
    {
      "cell_type": "code",
      "source": [
        "# Creamos un modelo donde Cost es la variable dependiente y Distance y Time, las independiente​s\n",
        "# En esta ocasión usamos Ordinary Least Squares para generar el modelo\n",
        "X_train = sm.add_constant(X_train)\n",
        "model = sm.OLS(y_train, X_train).fit()\n",
        "\n",
        "# Visualizamos los detalles del modelo\n",
        "print(model.summary())"
      ],
      "metadata": {
        "colab": {
          "base_uri": "https://localhost:8080/"
        },
        "id": "TJinsYriA_IL",
        "outputId": "e4e084a6-aee7-4b02-e6aa-9098b25a9cb7"
      },
      "execution_count": 32,
      "outputs": [
        {
          "output_type": "stream",
          "name": "stdout",
          "text": [
            "                            OLS Regression Results                            \n",
            "==============================================================================\n",
            "Dep. Variable:                      y   R-squared:                       1.000\n",
            "Model:                            OLS   Adj. R-squared:                  1.000\n",
            "Method:                 Least Squares   F-statistic:                 1.429e+06\n",
            "Date:                Mon, 27 Mar 2023   Prob (F-statistic):           6.13e-80\n",
            "Time:                        01:01:32   Log-Likelihood:                 3.3037\n",
            "No. Observations:                  35   AIC:                           -0.6074\n",
            "Df Residuals:                      32   BIC:                             4.059\n",
            "Df Model:                           2                                         \n",
            "Covariance Type:            nonrobust                                         \n",
            "==============================================================================\n",
            "                 coef    std err          t      P>|t|      [0.025      0.975]\n",
            "------------------------------------------------------------------------------\n",
            "const          9.5724      0.117     82.132      0.000       9.335       9.810\n",
            "x1             0.0043   2.67e-06   1598.124      0.000       0.004       0.004\n",
            "x2             0.0237   2.76e-05    860.767      0.000       0.024       0.024\n",
            "==============================================================================\n",
            "Omnibus:                        2.080   Durbin-Watson:                   2.235\n",
            "Prob(Omnibus):                  0.353   Jarque-Bera (JB):                1.219\n",
            "Skew:                           0.079   Prob(JB):                        0.544\n",
            "Kurtosis:                       2.099   Cond. No.                     8.56e+04\n",
            "==============================================================================\n",
            "\n",
            "Notes:\n",
            "[1] Standard Errors assume that the covariance matrix of the errors is correctly specified.\n",
            "[2] The condition number is large, 8.56e+04. This might indicate that there are\n",
            "strong multicollinearity or other numerical problems.\n"
          ]
        }
      ]
    }
  ]
}