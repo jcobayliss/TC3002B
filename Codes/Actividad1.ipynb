{
  "nbformat": 4,
  "nbformat_minor": 0,
  "metadata": {
    "colab": {
      "provenance": []
    },
    "kernelspec": {
      "name": "python3",
      "display_name": "Python 3"
    },
    "language_info": {
      "name": "python"
    }
  },
  "cells": [
    {
      "cell_type": "markdown",
      "source": [
        "---\n",
        "# Activity\n",
        "---\n",
        "It has happened. Aliens have arrived. They hail from a planet called Valhalla-23, where the temperature is measured in Valks. These visitors tell you that they have come to solve Earth’s global warming crisis*. They offer you a machine that will solve the problem, but they warn you:\n",
        "\n",
        "1. The machine must be set up in Valks.\n",
        "2. If you input a wrong temperature value, you may end up freezing or scorching the Earth.\n",
        "3. No one knows how to transform between Celsius and Valks.\n",
        "\n",
        "You are tasked with finding a model for solving this problem, so you ask Humans and Valkians to collect temperature readings of several objects. The data are given in the Valhalla23.csv file.\n",
        "\n",
        "**Will you become Earth’s savior? Or will you obliterate life?** ...  *The choice is yours…*"
      ],
      "metadata": {
        "id": "3wC5CGvBHJ-5"
      }
    },
    {
      "cell_type": "markdown",
      "source": [
        "## Solution"
      ],
      "metadata": {
        "id": "6ucLpo2IHK8T"
      }
    },
    {
      "cell_type": "code",
      "source": [
        "from google.colab import drive\n",
        "drive.mount('/content/drive')\n",
        "\n",
        "# Importamos las librerías que usaremos a lo largo de esta presentación\n",
        "import pandas as pd\n",
        "from sklearn.model_selection import train_test_split\n",
        "from sklearn.linear_model import LinearRegression\n",
        "from matplotlib import pyplot as plt\n",
        "\n",
        "# Usando Valhalla\n",
        "\n",
        "# Lectura de datos\n",
        "base_path = \"/content/drive/MyDrive/Clases/FJ2023/TC3002B/Datasets/\" # Relocate to own path\n",
        "valhalla = pd.read_csv(base_path + \"Valhalla23.csv\")\n",
        "print(valhalla.head())\n",
        "xV = valhalla.drop(['Valks'], axis = 1)\n",
        "yV = valhalla['Valks']\n",
        "#yV = valhalla.drop(['Celsius'], axis=1) # Also valid\n",
        "\n",
        "# Separación del dataset\n",
        "xTr, xTe, yTr, yTe = train_test_split(xV, yV, train_size=0.8, random_state=314159)\n",
        "\n",
        "# Definición del modelo\n",
        "model = LinearRegression()\n",
        "\n",
        "# Entrenamiento\n",
        "model.fit(xTr,yTr)\n",
        "print(model.intercept_, model.coef_)\n",
        "\n",
        "# Uso (predicción)\n",
        "yPr = model.predict(xTe)\n",
        "\n",
        "# Evaluación respecto al set de prueba\n",
        "model.score(xTe,yTe)\n",
        "\n",
        "# Comparación\n",
        "plt.scatter(xTe, yTe, color = 'b')\n",
        "plt.plot(xTe, yPr, color = 'r')\n",
        "plt.xlabel('Celsius')\n",
        "plt.ylabel('Valks')"
      ],
      "metadata": {
        "colab": {
          "base_uri": "https://localhost:8080/",
          "height": 439
        },
        "id": "8TUZ6PUZHJtB",
        "outputId": "741b7cff-8110-4997-aa45-56e14ebfb6ac"
      },
      "execution_count": 4,
      "outputs": [
        {
          "output_type": "stream",
          "name": "stdout",
          "text": [
            "Drive already mounted at /content/drive; to attempt to forcibly remount, call drive.mount(\"/content/drive\", force_remount=True).\n",
            "   Celsius    Valks\n",
            "0  61.4720 -139.740\n",
            "1  70.5790 -156.600\n",
            "2  -7.3013   73.269\n",
            "3  71.3380 -165.420\n",
            "4  43.2360  -75.835\n",
            "49.99851616321111 [-2.97498009]\n"
          ]
        },
        {
          "output_type": "execute_result",
          "data": {
            "text/plain": [
              "Text(0, 0.5, 'Valks')"
            ]
          },
          "metadata": {},
          "execution_count": 4
        },
        {
          "output_type": "display_data",
          "data": {
            "text/plain": [
              "<Figure size 432x288 with 1 Axes>"
            ],
            "image/png": "[encoded data removed]"
          },
          "metadata": {
            "needs_background": "light"
          }
        }
      ]
    }
  ]
}